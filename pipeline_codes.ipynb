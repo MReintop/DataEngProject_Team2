{
 "cells": [
  {
   "cell_type": "markdown",
   "metadata": {},
   "source": [
    "# Project ideas"
   ]
  },
  {
   "cell_type": "code",
   "execution_count": 26,
   "metadata": {},
   "outputs": [],
   "source": [
    "import numpy as np\n",
    "import pandas as pd\n",
    "import matplotlib.pyplot as plt\n",
    "import json\n",
    "import time\n",
    "# !pip install openpyxl\n",
    "# import openpyxl \n",
    "from datetime import datetime\n",
    "from functools import reduce"
   ]
  },
  {
   "cell_type": "markdown",
   "metadata": {},
   "source": [
    "TASK ONE: Import file from given url"
   ]
  },
  {
   "cell_type": "markdown",
   "metadata": {},
   "source": [
    "TASK TWO: Select rows\n",
    "- Import file to pandas df\n",
    "- Select only memes (category==\"Meme\")\n",
    "- Drop duplicate rows\n",
    "- Drop column Category"
   ]
  },
  {
   "cell_type": "code",
   "execution_count": 63,
   "metadata": {},
   "outputs": [
    {
     "data": {
      "text/plain": [
       "(12654, 15)"
      ]
     },
     "execution_count": 63,
     "metadata": {},
     "output_type": "execute_result"
    }
   ],
   "source": [
    "df = pd.read_json(\"kym.json\")\n",
    "df = df[df.category==\"Meme\"].reset_index(drop=True)\n",
    "df=df.drop_duplicates(subset='title', keep='first')\n",
    "df = df.drop(\"category\",axis=1)\n",
    "df = df.reset_index(drop=True)\n",
    "df.shape"
   ]
  },
  {
   "cell_type": "code",
   "execution_count": 47,
   "metadata": {},
   "outputs": [
    {
     "data": {
      "text/plain": [
       "RangeIndex(start=0, stop=12654, step=1)"
      ]
     },
     "execution_count": 47,
     "metadata": {},
     "output_type": "execute_result"
    }
   ],
   "source": [
    "df.index"
   ]
  },
  {
   "cell_type": "markdown",
   "metadata": {},
   "source": [
    "TASK THREE: skipped currently"
   ]
  },
  {
   "cell_type": "markdown",
   "metadata": {},
   "source": [
    "TASK FOUR: Emptyness check - if loaded file (which is cleaned: selected memes and deleted duplicate rows) is empty then do not continue with following tasks, go to end"
   ]
  },
  {
   "cell_type": "markdown",
   "metadata": {},
   "source": [
    "TASK FIVE: Select features\n",
    "- From meta: ImageWidth, ImageHeight, SocialMediaDescription\n",
    "- From details all: Status, Origin, Year, Type\n",
    "- From content: AboutText, AboutLinks, AboutImages, OriginText, OriginLinks, OriginImages,\n",
    "                       SpreadText, SpreadLinks', SpreadImages, NotExamplesText, NotExamplesLinks, NotExamplesImages,\n",
    "                       SearchIntText, SearchIntLinks, SearchIntImages, ExtRefText, ExtRefLinks\n",
    "- From main table all: Title, URL, TimeUpdate, Image, TimeAdded, Tags, References, SearchKeywords, Parent (url)"
   ]
  },
  {
   "cell_type": "code",
   "execution_count": 48,
   "metadata": {},
   "outputs": [],
   "source": [
    "# select only wanted data features, flatten the data\n",
    "# META:\n",
    "def _meta_to_df(df):\n",
    "    meta_data = pd.DataFrame(df['meta'].values.tolist())\n",
    "    meta_data = meta_data[['og:image:width', 'og:image:height', 'og:description']]\n",
    "    meta_data = meta_data.rename(\n",
    "        {'og:image:width': 'ImageWidth', 'og:image:height': 'ImageHeight',\n",
    "         'og:description': 'SocialMediaDescription'},\n",
    "        axis=1)\n",
    "    return meta_data\n",
    "\n",
    "# DETAILS:\n",
    "def _details_to_df(df):\n",
    "    details = pd.DataFrame(df['details'].values.tolist())\n",
    "    details = details[['status','origin','year','type']]\n",
    "    details = details.rename(\n",
    "        {'status':'Status','origin':'Origin','year':'Year','type':'Type'}\n",
    "    )\n",
    "    return details\n",
    "\n",
    "# CONTENT SUBTABLES:\n",
    "def norm_cont(df,col,subcols):\n",
    "    subtable = pd.json_normalize(df[f\"{col}\"])\n",
    "    subtable = subtable[subcols]\n",
    "    return subtable\n",
    "\n",
    "# CONTENT:\n",
    "def _content_to_df(df):\n",
    "    content = pd.DataFrame(df['content'].values.tolist())\n",
    "    sub_columns = [\"text\",\"links\",\"images\"]\n",
    "    about = norm_cont(content,\"about\",sub_columns)\n",
    "    origin = norm_cont(content,\"origin\",sub_columns)\n",
    "    spread = norm_cont(content,\"spread\",sub_columns)\n",
    "    notable_examples = norm_cont(content,\"notable examples\",sub_columns)\n",
    "    search_interest = norm_cont(content,\"search interest\",sub_columns)\n",
    "    external_references = norm_cont(content,\"external references\",sub_columns[:-1]) # images tulpa external_ref tabelis ei ole\n",
    "    content = pd.concat([about, origin, spread, notable_examples, search_interest, external_references],axis=1)\n",
    "    # kuna tulpade nimed on korduvad, siis tuleks defineerida neid ümber hoopis nii\n",
    "    content.columns = ['AboutText','AboutLinks', 'AboutImages', 'OriginText', 'OriginLinks', 'OriginImages',\n",
    "                       'SpreadText', 'SpreadLinks', 'SpreadImages', 'NotExamplesText', 'NotExamplesLinks', 'NotExamplesImages',\n",
    "                       'SearchIntText', 'SearchIntLinks', 'SearchIntImages', 'ExtRefText', 'ExtRefLinks']\n",
    "    return content"
   ]
  },
  {
   "cell_type": "code",
   "execution_count": 64,
   "metadata": {},
   "outputs": [
    {
     "name": "stdout",
     "output_type": "stream",
     "text": [
      "main:  (12654, 9)\n",
      "meta:  (12654, 3)\n",
      "details:  (12654, 4)\n",
      "content:  (12654, 17)\n"
     ]
    }
   ],
   "source": [
    "# MAIN FN FOR SELECTING FEATURES:\n",
    "main = df[['title','url','last_update_source','template_image_url','added','tags','additional_references','search_keywords','parent']]\n",
    "print('main: ',main.shape)\n",
    "meta = _meta_to_df(df)\n",
    "print('meta: ',meta.shape)\n",
    "details = _details_to_df(df)\n",
    "print('details: ',details.shape)\n",
    "content = _content_to_df(df)\n",
    "print('content: ',content.shape)"
   ]
  },
  {
   "cell_type": "code",
   "execution_count": 66,
   "metadata": {},
   "outputs": [
    {
     "name": "stdout",
     "output_type": "stream",
     "text": [
      "concat:  (12654, 26)\n",
      "concat2:  (12654, 33)\n"
     ]
    }
   ],
   "source": [
    "# CONCATENATION\n",
    "df = pd.concat([main,meta,details,content],axis=1)\n",
    "print('concat: ',df.shape)\n",
    "df.columns = ['Title','URL','TimeUpdated','Image','TimeAdded','Tags','References','SearchKeywords','Parent', \n",
    "              'ImageWidth', 'ImageHeight', 'SocialMediaDescription',\n",
    "              'Status', 'Origin','Year', 'Type','AboutText', 'AboutLinks', \n",
    "              'AboutImages', 'OriginText', 'OriginLinks', 'OriginImages',\n",
    "              'SpreadText', 'SpreadLinks', 'SpreadImages', 'NotExamplesText',\n",
    "              'NotExamplesLinks', 'NotExamplesImages', 'SearchIntText',\n",
    "              'SearchIntLinks', 'SearchIntImages', 'ExtRefText', 'ExtRefLinks']\n"
   ]
  },
  {
   "cell_type": "code",
   "execution_count": 70,
   "metadata": {},
   "outputs": [
    {
     "data": {
      "text/plain": [
       "Title                         0\n",
       "URL                           0\n",
       "TimeUpdated                   0\n",
       "Image                         0\n",
       "TimeAdded                   156\n",
       "Tags                          0\n",
       "References                    0\n",
       "SearchKeywords             6992\n",
       "Parent                     7325\n",
       "ImageWidth                    0\n",
       "ImageHeight                   0\n",
       "SocialMediaDescription       16\n",
       "Status                        0\n",
       "Origin                        0\n",
       "Year                       1094\n",
       "Type                       9885\n",
       "AboutText                  5047\n",
       "AboutLinks                 6282\n",
       "AboutImages               12467\n",
       "OriginText                 5531\n",
       "OriginLinks                8046\n",
       "OriginImages               9244\n",
       "SpreadText                 6153\n",
       "SpreadLinks                6931\n",
       "SpreadImages               9099\n",
       "NotExamplesText           12251\n",
       "NotExamplesLinks          12432\n",
       "NotExamplesImages         11453\n",
       "SearchIntText             11465\n",
       "SearchIntLinks            12572\n",
       "SearchIntImages           12646\n",
       "ExtRefText                 6432\n",
       "ExtRefLinks                6460\n",
       "dtype: int64"
      ]
     },
     "execution_count": 70,
     "metadata": {},
     "output_type": "execute_result"
    }
   ],
   "source": [
    "df.isnull().sum()"
   ]
  },
  {
   "cell_type": "markdown",
   "metadata": {},
   "source": [
    "TASK SIX: The time fields (TimeAdded, TimeUpdated) are formatted to ..."
   ]
  },
  {
   "cell_type": "code",
   "execution_count": 170,
   "metadata": {},
   "outputs": [],
   "source": [
    "df['TimeAdded'] = df['TimeAdded'].fillna(-2208988800)"
   ]
  },
  {
   "cell_type": "code",
   "execution_count": 172,
   "metadata": {},
   "outputs": [],
   "source": [
    "# convert epoch time to readable date time\n",
    "def format_time(col_name):\n",
    "   formatted_date_time=pd.to_datetime(col_name.apply(datetime.fromtimestamp))\n",
    "   return formatted_date_time\n",
    "\n",
    "# Column to be formatted from miliseconds\n",
    "df['TimeUpdated'] = format_time(df['TimeUpdated'])\n",
    "df['TimeAdded'] = format_time(df['TimeAdded'])"
   ]
  },
  {
   "cell_type": "code",
   "execution_count": 174,
   "metadata": {},
   "outputs": [
    {
     "data": {
      "text/html": [
       "<div>\n",
       "<style scoped>\n",
       "    .dataframe tbody tr th:only-of-type {\n",
       "        vertical-align: middle;\n",
       "    }\n",
       "\n",
       "    .dataframe tbody tr th {\n",
       "        vertical-align: top;\n",
       "    }\n",
       "\n",
       "    .dataframe thead th {\n",
       "        text-align: right;\n",
       "    }\n",
       "</style>\n",
       "<table border=\"1\" class=\"dataframe\">\n",
       "  <thead>\n",
       "    <tr style=\"text-align: right;\">\n",
       "      <th></th>\n",
       "      <th>Title</th>\n",
       "      <th>URL</th>\n",
       "      <th>TimeUpdated</th>\n",
       "      <th>Image</th>\n",
       "      <th>TimeAdded</th>\n",
       "      <th>Tags</th>\n",
       "      <th>References</th>\n",
       "      <th>SearchKeywords</th>\n",
       "      <th>Parent</th>\n",
       "      <th>ImageWidth</th>\n",
       "      <th>...</th>\n",
       "      <th>SpreadLinks</th>\n",
       "      <th>SpreadImages</th>\n",
       "      <th>NotExamplesText</th>\n",
       "      <th>NotExamplesLinks</th>\n",
       "      <th>NotExamplesImages</th>\n",
       "      <th>SearchIntText</th>\n",
       "      <th>SearchIntLinks</th>\n",
       "      <th>SearchIntImages</th>\n",
       "      <th>ExtRefText</th>\n",
       "      <th>ExtRefLinks</th>\n",
       "    </tr>\n",
       "  </thead>\n",
       "  <tbody>\n",
       "    <tr>\n",
       "      <th>4269</th>\n",
       "      <td>You Make My Kokoro Go Doki Doki</td>\n",
       "      <td>https://knowyourmeme.com/memes/you-make-my-kok...</td>\n",
       "      <td>2019-11-19 23:32:32</td>\n",
       "      <td>https://i.kym-cdn.com/entries/icons/original/0...</td>\n",
       "      <td>2016-01-06 01:59:25</td>\n",
       "      <td>[japanese, you make my heart go, kokoro, doki ...</td>\n",
       "      <td>{'Urban Dictionary': 'https://www.urbandiction...</td>\n",
       "      <td>[kokoro doki doki, kokoro go doki doki]</td>\n",
       "      <td>https://knowyourmeme.com/memes/cultures/anime-...</td>\n",
       "      <td>600</td>\n",
       "      <td>...</td>\n",
       "      <td>[[Urban Dictionary, https://knowyourmeme.com/m...</td>\n",
       "      <td>[https://i.kym-cdn.com/photos/images/newsfeed/...</td>\n",
       "      <td>NaN</td>\n",
       "      <td>NaN</td>\n",
       "      <td>NaN</td>\n",
       "      <td>NaN</td>\n",
       "      <td>NaN</td>\n",
       "      <td>NaN</td>\n",
       "      <td>[[1] Yahoo! Answers – You Make My Kokoro Go Do...</td>\n",
       "      <td>[[You Make My Kokoro Go Doki Doki?, https://an...</td>\n",
       "    </tr>\n",
       "    <tr>\n",
       "      <th>3658</th>\n",
       "      <td>Customer Support Chat Trolling</td>\n",
       "      <td>https://knowyourmeme.com/memes/customer-suppor...</td>\n",
       "      <td>2019-11-19 23:32:43</td>\n",
       "      <td>https://i.kym-cdn.com/entries/icons/original/0...</td>\n",
       "      <td>2016-07-20 23:47:18</td>\n",
       "      <td>[prank, troll, trolling, customer service, web...</td>\n",
       "      <td>{}</td>\n",
       "      <td>NaN</td>\n",
       "      <td>https://knowyourmeme.com/memes/cultures/pranking</td>\n",
       "      <td>600</td>\n",
       "      <td>...</td>\n",
       "      <td>[[gamer, https://knowyourmeme.com/memes/cultur...</td>\n",
       "      <td>[http://i.imgur.com/Nt9zFAz.jpg, http://i.imgu...</td>\n",
       "      <td>NaN</td>\n",
       "      <td>NaN</td>\n",
       "      <td>NaN</td>\n",
       "      <td>[Not available.]</td>\n",
       "      <td>NaN</td>\n",
       "      <td>NaN</td>\n",
       "      <td>[[1] Reddit – /b/ trolls Apple Customer Suppor...</td>\n",
       "      <td>[[/b/ trolls Apple Customer Support chat, http...</td>\n",
       "    </tr>\n",
       "    <tr>\n",
       "      <th>10609</th>\n",
       "      <td>History Through Facebook</td>\n",
       "      <td>https://knowyourmeme.com/memes/history-through...</td>\n",
       "      <td>2018-07-18 00:07:52</td>\n",
       "      <td>https://i.kym-cdn.com/entries/icons/original/0...</td>\n",
       "      <td>2010-09-24 21:51:51</td>\n",
       "      <td>[facebook, parody, history]</td>\n",
       "      <td>{}</td>\n",
       "      <td>NaN</td>\n",
       "      <td>https://knowyourmeme.com/memes/subcultures/his...</td>\n",
       "      <td>600</td>\n",
       "      <td>...</td>\n",
       "      <td>NaN</td>\n",
       "      <td>NaN</td>\n",
       "      <td>NaN</td>\n",
       "      <td>NaN</td>\n",
       "      <td>NaN</td>\n",
       "      <td>NaN</td>\n",
       "      <td>NaN</td>\n",
       "      <td>NaN</td>\n",
       "      <td>NaN</td>\n",
       "      <td>NaN</td>\n",
       "    </tr>\n",
       "    <tr>\n",
       "      <th>6898</th>\n",
       "      <td>Golden Eagle Snatches Kid</td>\n",
       "      <td>https://knowyourmeme.com/memes/golden-eagle-sn...</td>\n",
       "      <td>2019-12-18 00:08:45</td>\n",
       "      <td>https://i.kym-cdn.com/entries/icons/original/0...</td>\n",
       "      <td>2012-12-20 20:22:56</td>\n",
       "      <td>[viral video, fake, hoax, entry of december 20...</td>\n",
       "      <td>{}</td>\n",
       "      <td>[golden eagle snatches]</td>\n",
       "      <td>NaN</td>\n",
       "      <td>600</td>\n",
       "      <td>...</td>\n",
       "      <td>[[Redditor, https://knowyourmeme.com/memes/sit...</td>\n",
       "      <td>[https://i.kym-cdn.com/photos/images/newsfeed/...</td>\n",
       "      <td>NaN</td>\n",
       "      <td>NaN</td>\n",
       "      <td>[https://i.kym-cdn.com/photos/images/newsfeed/...</td>\n",
       "      <td>NaN</td>\n",
       "      <td>NaN</td>\n",
       "      <td>NaN</td>\n",
       "      <td>[[1] Reddit – Golden Eagle Snatches Kid in Mon...</td>\n",
       "      <td>[[Golden Eagle Snatches Kid in Montreal, https...</td>\n",
       "    </tr>\n",
       "    <tr>\n",
       "      <th>2401</th>\n",
       "      <td>Spambot's Cold Bed</td>\n",
       "      <td>https://knowyourmeme.com/memes/spambots-cold-bed</td>\n",
       "      <td>2017-06-14 15:52:42</td>\n",
       "      <td>https://i.kym-cdn.com/entries/icons/original/0...</td>\n",
       "      <td>1900-01-01 01:39:00</td>\n",
       "      <td>[bed, spambot, spam, virus, e3, microsoft, nin...</td>\n",
       "      <td>{}</td>\n",
       "      <td>NaN</td>\n",
       "      <td>NaN</td>\n",
       "      <td>600</td>\n",
       "      <td>...</td>\n",
       "      <td>NaN</td>\n",
       "      <td>NaN</td>\n",
       "      <td>NaN</td>\n",
       "      <td>NaN</td>\n",
       "      <td>NaN</td>\n",
       "      <td>NaN</td>\n",
       "      <td>NaN</td>\n",
       "      <td>NaN</td>\n",
       "      <td>NaN</td>\n",
       "      <td>NaN</td>\n",
       "    </tr>\n",
       "  </tbody>\n",
       "</table>\n",
       "<p>5 rows × 33 columns</p>\n",
       "</div>"
      ],
      "text/plain": [
       "                                 Title  \\\n",
       "4269   You Make My Kokoro Go Doki Doki   \n",
       "3658    Customer Support Chat Trolling   \n",
       "10609         History Through Facebook   \n",
       "6898         Golden Eagle Snatches Kid   \n",
       "2401                Spambot's Cold Bed   \n",
       "\n",
       "                                                     URL         TimeUpdated  \\\n",
       "4269   https://knowyourmeme.com/memes/you-make-my-kok... 2019-11-19 23:32:32   \n",
       "3658   https://knowyourmeme.com/memes/customer-suppor... 2019-11-19 23:32:43   \n",
       "10609  https://knowyourmeme.com/memes/history-through... 2018-07-18 00:07:52   \n",
       "6898   https://knowyourmeme.com/memes/golden-eagle-sn... 2019-12-18 00:08:45   \n",
       "2401    https://knowyourmeme.com/memes/spambots-cold-bed 2017-06-14 15:52:42   \n",
       "\n",
       "                                                   Image           TimeAdded  \\\n",
       "4269   https://i.kym-cdn.com/entries/icons/original/0... 2016-01-06 01:59:25   \n",
       "3658   https://i.kym-cdn.com/entries/icons/original/0... 2016-07-20 23:47:18   \n",
       "10609  https://i.kym-cdn.com/entries/icons/original/0... 2010-09-24 21:51:51   \n",
       "6898   https://i.kym-cdn.com/entries/icons/original/0... 2012-12-20 20:22:56   \n",
       "2401   https://i.kym-cdn.com/entries/icons/original/0... 1900-01-01 01:39:00   \n",
       "\n",
       "                                                    Tags  \\\n",
       "4269   [japanese, you make my heart go, kokoro, doki ...   \n",
       "3658   [prank, troll, trolling, customer service, web...   \n",
       "10609                        [facebook, parody, history]   \n",
       "6898   [viral video, fake, hoax, entry of december 20...   \n",
       "2401   [bed, spambot, spam, virus, e3, microsoft, nin...   \n",
       "\n",
       "                                              References  \\\n",
       "4269   {'Urban Dictionary': 'https://www.urbandiction...   \n",
       "3658                                                  {}   \n",
       "10609                                                 {}   \n",
       "6898                                                  {}   \n",
       "2401                                                  {}   \n",
       "\n",
       "                                SearchKeywords  \\\n",
       "4269   [kokoro doki doki, kokoro go doki doki]   \n",
       "3658                                       NaN   \n",
       "10609                                      NaN   \n",
       "6898                   [golden eagle snatches]   \n",
       "2401                                       NaN   \n",
       "\n",
       "                                                  Parent ImageWidth  ...  \\\n",
       "4269   https://knowyourmeme.com/memes/cultures/anime-...        600  ...   \n",
       "3658    https://knowyourmeme.com/memes/cultures/pranking        600  ...   \n",
       "10609  https://knowyourmeme.com/memes/subcultures/his...        600  ...   \n",
       "6898                                                 NaN        600  ...   \n",
       "2401                                                 NaN        600  ...   \n",
       "\n",
       "                                             SpreadLinks  \\\n",
       "4269   [[Urban Dictionary, https://knowyourmeme.com/m...   \n",
       "3658   [[gamer, https://knowyourmeme.com/memes/cultur...   \n",
       "10609                                                NaN   \n",
       "6898   [[Redditor, https://knowyourmeme.com/memes/sit...   \n",
       "2401                                                 NaN   \n",
       "\n",
       "                                            SpreadImages NotExamplesText  \\\n",
       "4269   [https://i.kym-cdn.com/photos/images/newsfeed/...             NaN   \n",
       "3658   [http://i.imgur.com/Nt9zFAz.jpg, http://i.imgu...             NaN   \n",
       "10609                                                NaN             NaN   \n",
       "6898   [https://i.kym-cdn.com/photos/images/newsfeed/...             NaN   \n",
       "2401                                                 NaN             NaN   \n",
       "\n",
       "      NotExamplesLinks                                  NotExamplesImages  \\\n",
       "4269               NaN                                                NaN   \n",
       "3658               NaN                                                NaN   \n",
       "10609              NaN                                                NaN   \n",
       "6898               NaN  [https://i.kym-cdn.com/photos/images/newsfeed/...   \n",
       "2401               NaN                                                NaN   \n",
       "\n",
       "          SearchIntText SearchIntLinks SearchIntImages  \\\n",
       "4269                NaN            NaN             NaN   \n",
       "3658   [Not available.]            NaN             NaN   \n",
       "10609               NaN            NaN             NaN   \n",
       "6898                NaN            NaN             NaN   \n",
       "2401                NaN            NaN             NaN   \n",
       "\n",
       "                                              ExtRefText  \\\n",
       "4269   [[1] Yahoo! Answers – You Make My Kokoro Go Do...   \n",
       "3658   [[1] Reddit – /b/ trolls Apple Customer Suppor...   \n",
       "10609                                                NaN   \n",
       "6898   [[1] Reddit – Golden Eagle Snatches Kid in Mon...   \n",
       "2401                                                 NaN   \n",
       "\n",
       "                                             ExtRefLinks  \n",
       "4269   [[You Make My Kokoro Go Doki Doki?, https://an...  \n",
       "3658   [[/b/ trolls Apple Customer Support chat, http...  \n",
       "10609                                                NaN  \n",
       "6898   [[Golden Eagle Snatches Kid in Montreal, https...  \n",
       "2401                                                 NaN  \n",
       "\n",
       "[5 rows x 33 columns]"
      ]
     },
     "execution_count": 174,
     "metadata": {},
     "output_type": "execute_result"
    }
   ],
   "source": [
    "df.sample(5)"
   ]
  },
  {
   "cell_type": "markdown",
   "metadata": {},
   "source": [
    "TASK SEVEN: Format fields"
   ]
  },
  {
   "cell_type": "markdown",
   "metadata": {},
   "source": [
    "TASK EIGHT: remove sensitive/impropriate data"
   ]
  },
  {
   "cell_type": "code",
   "execution_count": 175,
   "metadata": {},
   "outputs": [
    {
     "data": {
      "text/plain": [
       "0        [image macros, comment, comments, approval, im...\n",
       "1         [ascii, animated gif, rofl, acronym, initialism]\n",
       "2        [myspace, 4chan, parody, know, bitches, dont, ...\n",
       "3        [youtube, rant, britney spears, response, frea...\n",
       "4        [image macro, owl, orly, o rly, negative, some...\n",
       "                               ...                        \n",
       "12649    [bird suit, muppets grammys, cee lo, tumblr, v...\n",
       "12650    [advice dog, hypocrite, liberal, janeane garof...\n",
       "12651    [game, creepypasta, fanart, nightmare, fangame...\n",
       "12652    [donald trump, ted cruz, 2016 republican natio...\n",
       "12653    [ytpmv, final fantasy, chocobo racing, japan, ...\n",
       "Name: Tags, Length: 12654, dtype: object"
      ]
     },
     "execution_count": 175,
     "metadata": {},
     "output_type": "execute_result"
    }
   ],
   "source": [
    "df.Tags"
   ]
  },
  {
   "cell_type": "code",
   "execution_count": 203,
   "metadata": {},
   "outputs": [
    {
     "data": {
      "text/plain": [
       "array([nan])"
      ]
     },
     "execution_count": 203,
     "metadata": {},
     "output_type": "execute_result"
    }
   ],
   "source": [
    "df.Tags.str.contains('nsfw').unique()"
   ]
  },
  {
   "cell_type": "code",
   "execution_count": 210,
   "metadata": {},
   "outputs": [
    {
     "data": {
      "text/plain": [
       "(12654, 33)"
      ]
     },
     "execution_count": 210,
     "metadata": {},
     "output_type": "execute_result"
    }
   ],
   "source": [
    "df.shape"
   ]
  },
  {
   "cell_type": "code",
   "execution_count": 212,
   "metadata": {},
   "outputs": [
    {
     "name": "stderr",
     "output_type": "stream",
     "text": [
      "/var/folders/hk/kbn1q_sj4jz4lh0m7x05vff80000gn/T/ipykernel_22216/1774149021.py:3: SettingWithCopyWarning: \n",
      "A value is trying to be set on a copy of a slice from a DataFrame.\n",
      "Try using .loc[row_indexer,col_indexer] = value instead\n",
      "\n",
      "See the caveats in the documentation: https://pandas.pydata.org/pandas-docs/stable/user_guide/indexing.html#returning-a-view-versus-a-copy\n",
      "  nsfw[\"Tags\"] = nsfw[\"Tags\"].astype('str')\n",
      "/var/folders/hk/kbn1q_sj4jz4lh0m7x05vff80000gn/T/ipykernel_22216/1774149021.py:5: SettingWithCopyWarning: \n",
      "A value is trying to be set on a copy of a slice from a DataFrame.\n",
      "Try using .loc[row_indexer,col_indexer] = value instead\n",
      "\n",
      "See the caveats in the documentation: https://pandas.pydata.org/pandas-docs/stable/user_guide/indexing.html#returning-a-view-versus-a-copy\n",
      "  nsfw[\"t1\"]=t1\n",
      "/var/folders/hk/kbn1q_sj4jz4lh0m7x05vff80000gn/T/ipykernel_22216/1774149021.py:7: SettingWithCopyWarning: \n",
      "A value is trying to be set on a copy of a slice from a DataFrame.\n",
      "Try using .loc[row_indexer,col_indexer] = value instead\n",
      "\n",
      "See the caveats in the documentation: https://pandas.pydata.org/pandas-docs/stable/user_guide/indexing.html#returning-a-view-versus-a-copy\n",
      "  nsfw[\"t2\"]=t2\n"
     ]
    },
    {
     "name": "stdout",
     "output_type": "stream",
     "text": [
      "(74997,)\n",
      "(74997, 2)\n"
     ]
    },
    {
     "ename": "TypeError",
     "evalue": "reset_index() got an unexpected keyword argument 'index'",
     "output_type": "error",
     "traceback": [
      "\u001b[0;31m---------------------------------------------------------------------------\u001b[0m",
      "\u001b[0;31mTypeError\u001b[0m                                 Traceback (most recent call last)",
      "\u001b[0;32m/var/folders/hk/kbn1q_sj4jz4lh0m7x05vff80000gn/T/ipykernel_22216/1774149021.py\u001b[0m in \u001b[0;36m<module>\u001b[0;34m\u001b[0m\n\u001b[1;32m     16\u001b[0m \u001b[0;31m#nsfw.sample(3)\u001b[0m\u001b[0;34m\u001b[0m\u001b[0;34m\u001b[0m\u001b[0;34m\u001b[0m\u001b[0m\n\u001b[1;32m     17\u001b[0m \u001b[0mnsfw\u001b[0m \u001b[0;34m=\u001b[0m \u001b[0mnsfw\u001b[0m\u001b[0;34m.\u001b[0m\u001b[0mdrop_duplicates\u001b[0m\u001b[0;34m(\u001b[0m\u001b[0;34m)\u001b[0m\u001b[0;34m\u001b[0m\u001b[0;34m\u001b[0m\u001b[0m\n\u001b[0;32m---> 18\u001b[0;31m \u001b[0mnsfw\u001b[0m \u001b[0;34m=\u001b[0m \u001b[0mnsfw\u001b[0m\u001b[0;34m.\u001b[0m\u001b[0mreset_index\u001b[0m\u001b[0;34m(\u001b[0m\u001b[0mindex\u001b[0m\u001b[0;34m=\u001b[0m\u001b[0mnsfw\u001b[0m\u001b[0;34m.\u001b[0m\u001b[0mindex\u001b[0m\u001b[0;34m)\u001b[0m\u001b[0;34m\u001b[0m\u001b[0;34m\u001b[0m\u001b[0m\n\u001b[0m\u001b[1;32m     19\u001b[0m \u001b[0mprint\u001b[0m\u001b[0;34m(\u001b[0m\u001b[0mnsfw\u001b[0m\u001b[0;34m.\u001b[0m\u001b[0mshape\u001b[0m\u001b[0;34m)\u001b[0m\u001b[0;34m\u001b[0m\u001b[0;34m\u001b[0m\u001b[0m\n\u001b[1;32m     20\u001b[0m \u001b[0mnsfw\u001b[0m\u001b[0;34m.\u001b[0m\u001b[0msample\u001b[0m\u001b[0;34m(\u001b[0m\u001b[0;36m3\u001b[0m\u001b[0;34m)\u001b[0m\u001b[0;34m\u001b[0m\u001b[0;34m\u001b[0m\u001b[0m\n",
      "\u001b[0;32m/Library/Frameworks/Python.framework/Versions/3.9/lib/python3.9/site-packages/pandas/util/_decorators.py\u001b[0m in \u001b[0;36mwrapper\u001b[0;34m(*args, **kwargs)\u001b[0m\n\u001b[1;32m    309\u001b[0m                     \u001b[0mstacklevel\u001b[0m\u001b[0;34m=\u001b[0m\u001b[0mstacklevel\u001b[0m\u001b[0;34m,\u001b[0m\u001b[0;34m\u001b[0m\u001b[0;34m\u001b[0m\u001b[0m\n\u001b[1;32m    310\u001b[0m                 )\n\u001b[0;32m--> 311\u001b[0;31m             \u001b[0;32mreturn\u001b[0m \u001b[0mfunc\u001b[0m\u001b[0;34m(\u001b[0m\u001b[0;34m*\u001b[0m\u001b[0margs\u001b[0m\u001b[0;34m,\u001b[0m \u001b[0;34m**\u001b[0m\u001b[0mkwargs\u001b[0m\u001b[0;34m)\u001b[0m\u001b[0;34m\u001b[0m\u001b[0;34m\u001b[0m\u001b[0m\n\u001b[0m\u001b[1;32m    312\u001b[0m \u001b[0;34m\u001b[0m\u001b[0m\n\u001b[1;32m    313\u001b[0m         \u001b[0;32mreturn\u001b[0m \u001b[0mwrapper\u001b[0m\u001b[0;34m\u001b[0m\u001b[0;34m\u001b[0m\u001b[0m\n",
      "\u001b[0;31mTypeError\u001b[0m: reset_index() got an unexpected keyword argument 'index'"
     ]
    }
   ],
   "source": [
    "# create intermediate table nsfw\n",
    "nsfw = df[['URL','Tags']]\n",
    "nsfw[\"Tags\"] = nsfw[\"Tags\"].astype('str')\n",
    "t1 = nsfw.apply(lambda row: row[\"Tags\"].split('[')[-1], axis=1) #.split(']')[0].split(',')\n",
    "nsfw[\"t1\"]=t1\n",
    "t2 = nsfw.apply(lambda row: row[\"t1\"].split(']')[0], axis=1) #.split(',')\n",
    "nsfw[\"t2\"]=t2\n",
    "SingleTag = nsfw.apply(lambda row: row[\"t2\"].split(','), axis=1).explode()\n",
    "nsfw = nsfw.join(pd.DataFrame(SingleTag,columns=[\"Tag\"]))\n",
    "nsfw = nsfw.drop([\"Tags\",\"t1\",\"t2\"],axis=1)\n",
    "# Filter nsfw from Tags\n",
    "nsfw = nsfw.Tag.str.contains('nsfw')\n",
    "print(nsfw.shape)\n",
    "nsfw = nsfw.reset_index()\n",
    "print(nsfw.shape)\n",
    "#nsfw.sample(3)\n",
    "nsfw = nsfw.drop_duplicates()\n",
    "nsfw = nsfw.reset_index(index=nsfw.index)\n",
    "print(nsfw.shape)\n",
    "nsfw.sample(3)\n",
    "\n"
   ]
  },
  {
   "cell_type": "markdown",
   "metadata": {},
   "source": [
    "TASK NINE: Create SQL script"
   ]
  },
  {
   "cell_type": "markdown",
   "metadata": {},
   "source": [
    "TASK TEN: Insert to DB"
   ]
  }
 ],
 "metadata": {
  "interpreter": {
   "hash": "34368ba4908ea1be08ba769dfb7764ab7f8ead2384ebb5604cb86637573696f7"
  },
  "kernelspec": {
   "display_name": "Python 3.8.12 64-bit (conda)",
   "name": "python3"
  },
  "language_info": {
   "codemirror_mode": {
    "name": "ipython",
    "version": 3
   },
   "file_extension": ".py",
   "mimetype": "text/x-python",
   "name": "python",
   "nbconvert_exporter": "python",
   "pygments_lexer": "ipython3",
   "version": "3.9.6"
  },
  "orig_nbformat": 4
 },
 "nbformat": 4,
 "nbformat_minor": 2
}
